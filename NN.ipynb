{
 "cells": [
  {
   "cell_type": "code",
   "execution_count": 1,
   "id": "9930f7d6-397d-4535-9339-c94d8d43972d",
   "metadata": {},
   "outputs": [],
   "source": [
    "import numpy as np\n",
    "import random"
   ]
  },
  {
   "cell_type": "code",
   "execution_count": 2,
   "id": "8f0c1f57-ee25-4528-a4fe-0b116105ab6d",
   "metadata": {},
   "outputs": [],
   "source": [
    "def sigmoid(x):\n",
    "    return 1/(1 + np.exp(-x))\n",
    "\n",
    "def weight(layer1 , layer2):\n",
    "    return np.random.rand(layer1, layer2)\n",
    "\n",
    "def activation(a,w):\n",
    "    z = np.dot(a,w)\n",
    "    # z = a @ w\n",
    "    return sigmoid(z)"
   ]
  },
  {
   "cell_type": "code",
   "execution_count": 3,
   "id": "f33ad993-b6f8-4c7f-b33d-b894a5624448",
   "metadata": {},
   "outputs": [],
   "source": [
    "def forward(input, layers, weights):\n",
    "    a = input\n",
    "    for i in weights:\n",
    "        a = activation(a,i)\n",
    "    return a"
   ]
  },
  {
   "cell_type": "code",
   "execution_count": 4,
   "id": "e8c8ee3e-b6c5-44dc-a36a-a13c8e902b74",
   "metadata": {},
   "outputs": [],
   "source": [
    "def back_propagate(self, error):\n",
    "\n",
    "    for i in reversed(range(len(self.derivatives))):\n",
    "\n",
    "            # get activation for previous layer\n",
    "        activations = self.activations[i+1]\n",
    "\n",
    "            # apply sigmoid derivative function\n",
    "        delta = error * self._sigmoid_derivative(activations)\n",
    "\n",
    "            # reshape delta as to have it as a 2d array\n",
    "        delta_re = delta.reshape(delta.shape[0], -1).T\n",
    "\n",
    "            # get activations for current layer\n",
    "        current_activations = self.activations[i]\n",
    "\n",
    "            # reshape activations as to have them as a 2d column matrix\n",
    "        current_activations = current_activations.reshape(current_activations.shape[0],-1)\n",
    "\n",
    "            # save derivative after applying matrix multiplication\n",
    "        self.derivatives[i] = np.dot(current_activations, delta_re)\n",
    "\n",
    "            # backpropogate the next error\n",
    "        error = np.dot(delta, self.weights[i].T)"
   ]
  },
  {
   "cell_type": "code",
   "execution_count": 5,
   "id": "cb6662d5-6628-4536-8b3c-f745bf284920",
   "metadata": {},
   "outputs": [],
   "source": [
    "def gradient_descent(self, learningRate=1):\n",
    "    for i in range(len(self.weights)):\n",
    "        weights = self.weights[i]\n",
    "        derivatives = self.derivatives[i]\n",
    "        weights += derivatives * learningRate\n",
    "\n",
    "def _sigmoid_derivative(self, x):\n",
    "    return x * (1.0 - x)\n",
    "\n",
    "def _mse(self, target, output):\n",
    "        return np.average((target - output) ** 2)"
   ]
  },
  {
   "cell_type": "code",
   "execution_count": 32,
   "id": "1dfd50c5-f023-4817-a021-26861235fbae",
   "metadata": {},
   "outputs": [],
   "source": [
    "input = np.array([[2, 6],[2,1]])\n",
    "# a = 1"
   ]
  },
  {
   "cell_type": "code",
   "execution_count": 35,
   "id": "eaf8fcd1-23ab-444b-9ed0-5421767ba4eb",
   "metadata": {},
   "outputs": [
    {
     "data": {
      "text/plain": [
       "[array([[0.44842024, 0.24867355, 0.96689901],\n",
       "        [0.56574952, 0.59921946, 0.1123813 ]]),\n",
       " array([[0.68424725, 0.0849189 , 0.13315593],\n",
       "        [0.26212499, 0.29465291, 0.25901585],\n",
       "        [0.28965681, 0.0483977 , 0.13986408]]),\n",
       " array([[0.51603356, 0.44816455],\n",
       "        [0.3528994 , 0.29872189],\n",
       "        [0.01639525, 0.49004018]])]"
      ]
     },
     "execution_count": 35,
     "metadata": {},
     "output_type": "execute_result"
    }
   ],
   "source": [
    "layers = np.array([2,3,3,2])\n",
    "weights = []\n",
    "for i in range( len(layers)-1):\n",
    "    weights.append(weight(layers[i],layers[i+1]))\n",
    "weights"
   ]
  },
  {
   "cell_type": "code",
   "execution_count": 36,
   "id": "d4de94fd-b930-4b6c-9984-452ab91777f6",
   "metadata": {},
   "outputs": [
    {
     "data": {
      "text/plain": [
       "array([[0.65020681, 0.69671956],\n",
       "       [0.64418361, 0.68972128]])"
      ]
     },
     "execution_count": 36,
     "metadata": {},
     "output_type": "execute_result"
    }
   ],
   "source": [
    "forward(input, layers, weights)"
   ]
  },
  {
   "cell_type": "code",
   "execution_count": null,
   "id": "b50f58c5-3546-4a11-86bf-38d1a37c965e",
   "metadata": {},
   "outputs": [],
   "source": []
  },
  {
   "cell_type": "code",
   "execution_count": null,
   "id": "f229ef6d-ecc4-45a5-a5a4-f2f7c0fd8758",
   "metadata": {},
   "outputs": [],
   "source": []
  }
 ],
 "metadata": {
  "kernelspec": {
   "display_name": "Python 3 (ipykernel)",
   "language": "python",
   "name": "python3"
  },
  "language_info": {
   "codemirror_mode": {
    "name": "ipython",
    "version": 3
   },
   "file_extension": ".py",
   "mimetype": "text/x-python",
   "name": "python",
   "nbconvert_exporter": "python",
   "pygments_lexer": "ipython3",
   "version": "3.12.2"
  }
 },
 "nbformat": 4,
 "nbformat_minor": 5
}
